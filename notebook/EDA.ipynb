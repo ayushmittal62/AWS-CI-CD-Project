{
 "cells": [
  {
   "cell_type": "markdown",
   "id": "c9ca1959",
   "metadata": {},
   "source": [
    "### Student Performance Indicator"
   ]
  },
  {
   "cell_type": "code",
   "execution_count": null,
   "id": "0f0b83c1",
   "metadata": {
    "vscode": {
     "languageId": "plaintext"
    }
   },
   "outputs": [],
   "source": []
  }
 ],
 "metadata": {
  "language_info": {
   "name": "python"
  }
 },
 "nbformat": 4,
 "nbformat_minor": 5
}
